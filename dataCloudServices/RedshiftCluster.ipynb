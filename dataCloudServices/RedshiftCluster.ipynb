{
 "cells": [
  {
   "cell_type": "code",
   "execution_count": 1,
   "id": "7f4ac7ea",
   "metadata": {},
   "outputs": [],
   "source": [
    "import boto3\n",
    "import pandas as pd\n",
    "import psycopg2\n",
    "import json"
   ]
  },
  {
   "cell_type": "code",
   "execution_count": 2,
   "id": "3992fb7c",
   "metadata": {},
   "outputs": [],
   "source": [
    "import configparser\n",
    "config = configparser.ConfigParser()\n",
    "config.read_file(open('./cluster.config'))"
   ]
  },
  {
   "cell_type": "code",
   "execution_count": 3,
   "id": "c1817530",
   "metadata": {},
   "outputs": [],
   "source": [
    "KEY = config.get('AWS','KEY')\n",
    "SECRET = config.get('AWS','SECRET')\n",
    "\n",
    "DWH_CLUSTER_TYPE = config.get('DWH','DWH_CLUSTER_TYPE')\n",
    "DWH_NUM_NODES = config.get('DWH','DWH_NUM_NODES')\n",
    "DWH_NODE_TYPE = config.get('DWH','DWH_NODE_TYPE')\n",
    "\n",
    "DWH_CLUSTER_IDENTIFIER = config.get('DWH','DWH_CLUSTER_IDENTIFIER')\n",
    "DWH_DB = config.get('DWH','DWH_DB')\n",
    "DWH_DB_USER = config.get('DWH','DWH_DB_USER')\n",
    "DWH_DB_PASSWORD = config.get('DWH','DWH_DB_PASSWORD')\n",
    "DWH_PORT = config.get('DWH','DWH_PORT')\n",
    "\n",
    "DWH_IAM_ROLE_NAME = config.get('DWH','DWH_IAM_ROLE_NAME')"
   ]
  },
  {
   "cell_type": "code",
   "execution_count": 4,
   "id": "71f658e4",
   "metadata": {},
   "outputs": [
    {
     "data": {
      "text/html": [
       "<div>\n",
       "<style scoped>\n",
       "    .dataframe tbody tr th:only-of-type {\n",
       "        vertical-align: middle;\n",
       "    }\n",
       "\n",
       "    .dataframe tbody tr th {\n",
       "        vertical-align: top;\n",
       "    }\n",
       "\n",
       "    .dataframe thead th {\n",
       "        text-align: right;\n",
       "    }\n",
       "</style>\n",
       "<table border=\"1\" class=\"dataframe\">\n",
       "  <thead>\n",
       "    <tr style=\"text-align: right;\">\n",
       "      <th></th>\n",
       "      <th>Param</th>\n",
       "      <th>Value</th>\n",
       "    </tr>\n",
       "  </thead>\n",
       "  <tbody>\n",
       "    <tr>\n",
       "      <th>0</th>\n",
       "      <td>DWH_CLUSTER_TYPE</td>\n",
       "      <td>single-node</td>\n",
       "    </tr>\n",
       "    <tr>\n",
       "      <th>1</th>\n",
       "      <td>DWH_NUM_NODES</td>\n",
       "      <td>1</td>\n",
       "    </tr>\n",
       "    <tr>\n",
       "      <th>2</th>\n",
       "      <td>DWH_NODE_TYPE</td>\n",
       "      <td>dc2.large</td>\n",
       "    </tr>\n",
       "    <tr>\n",
       "      <th>3</th>\n",
       "      <td>DWH_CLUSTER_IDENTIFIER</td>\n",
       "      <td>my-redshift-cluster-1</td>\n",
       "    </tr>\n",
       "    <tr>\n",
       "      <th>4</th>\n",
       "      <td>DWH_DB</td>\n",
       "      <td>dev</td>\n",
       "    </tr>\n",
       "    <tr>\n",
       "      <th>5</th>\n",
       "      <td>DWH_DB_USER</td>\n",
       "      <td>awsuser</td>\n",
       "    </tr>\n",
       "    <tr>\n",
       "      <th>6</th>\n",
       "      <td>DWH_DB_PASSWORD</td>\n",
       "      <td>Password1</td>\n",
       "    </tr>\n",
       "    <tr>\n",
       "      <th>7</th>\n",
       "      <td>DWH_PORT</td>\n",
       "      <td>5439</td>\n",
       "    </tr>\n",
       "    <tr>\n",
       "      <th>8</th>\n",
       "      <td>DWH_IAM_ROLE_NAME</td>\n",
       "      <td>redshift-s3-access</td>\n",
       "    </tr>\n",
       "  </tbody>\n",
       "</table>\n",
       "</div>"
      ],
      "text/plain": [
       "                    Param                  Value\n",
       "0        DWH_CLUSTER_TYPE            single-node\n",
       "1           DWH_NUM_NODES                      1\n",
       "2           DWH_NODE_TYPE              dc2.large\n",
       "3  DWH_CLUSTER_IDENTIFIER  my-redshift-cluster-1\n",
       "4                  DWH_DB                    dev\n",
       "5             DWH_DB_USER                awsuser\n",
       "6         DWH_DB_PASSWORD              Password1\n",
       "7                DWH_PORT                   5439\n",
       "8       DWH_IAM_ROLE_NAME     redshift-s3-access"
      ]
     },
     "execution_count": 4,
     "metadata": {},
     "output_type": "execute_result"
    }
   ],
   "source": [
    "pd.DataFrame({'Param':\n",
    "                 ['DWH_CLUSTER_TYPE', 'DWH_NUM_NODES', 'DWH_NODE_TYPE', 'DWH_CLUSTER_IDENTIFIER', 'DWH_DB', 'DWH_DB_USER', 'DWH_DB_PASSWORD', 'DWH_PORT', 'DWH_IAM_ROLE_NAME'],\n",
    "             'Value':\n",
    "                 [DWH_CLUSTER_TYPE, DWH_NUM_NODES, DWH_NODE_TYPE, DWH_CLUSTER_IDENTIFIER, DWH_DB, DWH_DB_USER, DWH_DB_PASSWORD, DWH_PORT, DWH_IAM_ROLE_NAME]\n",
    "             })"
   ]
  },
  {
   "cell_type": "markdown",
   "id": "3b44d520",
   "metadata": {},
   "source": [
    "## Service EC2"
   ]
  },
  {
   "cell_type": "code",
   "execution_count": 5,
   "id": "5964bdf0",
   "metadata": {},
   "outputs": [],
   "source": [
    "ec2 = boto3.resource('ec2',\n",
    "                        region_name='us-west-1',\n",
    "                        aws_access_key_id=KEY,\n",
    "                        aws_secret_access_key=SECRET\n",
    "                    )"
   ]
  },
  {
   "cell_type": "markdown",
   "id": "55f6fe4c",
   "metadata": {},
   "source": [
    "## Services S3, IAM, Redshift"
   ]
  },
  {
   "cell_type": "code",
   "execution_count": 6,
   "id": "0c81b535",
   "metadata": {},
   "outputs": [],
   "source": [
    "s3 = boto3.resource('s3',\n",
    "                        region_name='us-west-1',\n",
    "                        aws_access_key_id=KEY,\n",
    "                        aws_secret_access_key=SECRET\n",
    "                    )\n",
    "\n",
    "iam = boto3.client('iam',\n",
    "                        region_name='us-west-1',\n",
    "                        aws_access_key_id=KEY,\n",
    "                        aws_secret_access_key=SECRET\n",
    "                    )\n",
    "\n",
    "redshift = boto3.client('redshift',\n",
    "                        region_name='us-west-1',\n",
    "                        aws_access_key_id=KEY,\n",
    "                        aws_secret_access_key=SECRET\n",
    "                    )"
   ]
  },
  {
   "cell_type": "markdown",
   "id": "e03dd821",
   "metadata": {},
   "source": [
    "## Connect to S3 bucket"
   ]
  },
  {
   "cell_type": "code",
   "execution_count": 7,
   "id": "d1728124",
   "metadata": {},
   "outputs": [
    {
     "data": {
      "text/plain": [
       "['allevents_pipe.txt',\n",
       " 'allusers_pipe.txt',\n",
       " 'category_pipe.txt',\n",
       " 'date2008_pipe.txt',\n",
       " 'venue_pipe.txt']"
      ]
     },
     "execution_count": 7,
     "metadata": {},
     "output_type": "execute_result"
    }
   ],
   "source": [
    "bucket = s3.Bucket('juan-rds-bucket-test')\n",
    "log_data_files = [filename.key for filename in bucket.objects.filter(Prefix='')]\n",
    "log_data_files"
   ]
  },
  {
   "cell_type": "markdown",
   "id": "ca14689a",
   "metadata": {},
   "source": [
    "## Create cluster"
   ]
  },
  {
   "cell_type": "code",
   "execution_count": 8,
   "id": "db083bea",
   "metadata": {},
   "outputs": [],
   "source": [
    "roleArn = iam.get_role(RoleName=DWH_IAM_ROLE_NAME)['Role']['Arn']"
   ]
  },
  {
   "cell_type": "code",
   "execution_count": 9,
   "id": "1b4acf8e",
   "metadata": {},
   "outputs": [
    {
     "name": "stdout",
     "output_type": "stream",
     "text": [
      "An error occurred (ClusterAlreadyExists) when calling the CreateCluster operation: Cluster already exists\n"
     ]
    }
   ],
   "source": [
    "try:\n",
    "    response = redshift.create_cluster(\n",
    "    ClusterType = DWH_CLUSTER_TYPE,\n",
    "    NodeType = DWH_NODE_TYPE,\n",
    "    \n",
    "    # Identifiers and Credentials\n",
    "    DBName = DWH_DB,\n",
    "    ClusterIdentifier = DWH_CLUSTER_IDENTIFIER,\n",
    "    MasterUsername = DWH_DB_USER,\n",
    "    MasterUserPassword = DWH_DB_PASSWORD,\n",
    "    \n",
    "    # Roles (for s3 access)\n",
    "    IamRoles = [roleArn]\n",
    "    )\n",
    "except Exception as e:\n",
    "    print(e)"
   ]
  },
  {
   "cell_type": "markdown",
   "id": "00839493",
   "metadata": {},
   "source": [
    "## Describe cluster"
   ]
  },
  {
   "cell_type": "code",
   "execution_count": 12,
   "id": "76ed6d0a",
   "metadata": {},
   "outputs": [
    {
     "data": {
      "text/plain": [
       "{'ClusterIdentifier': 'my-redshift-cluster-1',\n",
       " 'NodeType': 'dc2.large',\n",
       " 'ClusterStatus': 'available',\n",
       " 'ClusterAvailabilityStatus': 'Available',\n",
       " 'MasterUsername': 'awsuser',\n",
       " 'DBName': 'dev',\n",
       " 'Endpoint': {'Address': 'my-redshift-cluster-1.cuazxwqypxhf.us-west-1.redshift.amazonaws.com',\n",
       "  'Port': 5439},\n",
       " 'ClusterCreateTime': datetime.datetime(2022, 11, 2, 2, 7, 35, 936000, tzinfo=tzutc()),\n",
       " 'AutomatedSnapshotRetentionPeriod': 1,\n",
       " 'ManualSnapshotRetentionPeriod': -1,\n",
       " 'ClusterSecurityGroups': [],\n",
       " 'VpcSecurityGroups': [{'VpcSecurityGroupId': 'sg-01110c9149ad23775',\n",
       "   'Status': 'active'}],\n",
       " 'ClusterParameterGroups': [{'ParameterGroupName': 'default.redshift-1.0',\n",
       "   'ParameterApplyStatus': 'in-sync'}],\n",
       " 'ClusterSubnetGroupName': 'default',\n",
       " 'VpcId': 'vpc-0725a61b90e943a46',\n",
       " 'AvailabilityZone': 'us-west-1a',\n",
       " 'PreferredMaintenanceWindow': 'tue:12:30-tue:13:00',\n",
       " 'PendingModifiedValues': {},\n",
       " 'ClusterVersion': '1.0',\n",
       " 'AllowVersionUpgrade': True,\n",
       " 'NumberOfNodes': 1,\n",
       " 'PubliclyAccessible': False,\n",
       " 'Encrypted': False,\n",
       " 'ClusterPublicKey': 'ssh-rsa AAAAB3NzaC1yc2EAAAADAQABAAABAQCJ8y65Yo3/SnGJVYnJTLBXPm8ZTfTuePYcrE2W7It2+sCP57Y/dlXoZlr1ZklBV5WWQZkrmt98Is9xn5oM+tezI9kcgKdWJpEMEAmXNQW76YKd16TeUKOXXzv931od0VmJQxlMCMPOrJS2TBN2ps121YsH4RebpiAcwN1dqXFjImyBmhv566/oE0vF0kTQ80X8i7/ylXvP5mi6RtZpdaWpJlJNJ0nJlQEJjRfABMFXKGPCL+69TklbiK883rX/zy20D8AEdW3BrRds6v+hTN+xCmmZAUuGlnGqwImnRX+mLGRr8chW930yi6w0Sh9TQ3wKFaiYPQnS0PCLQW3h04mB Amazon-Redshift\\n',\n",
       " 'ClusterNodes': [{'NodeRole': 'SHARED',\n",
       "   'PrivateIPAddress': '172.31.23.24',\n",
       "   'PublicIPAddress': '54.241.218.82'}],\n",
       " 'ClusterRevisionNumber': '43331',\n",
       " 'Tags': [],\n",
       " 'EnhancedVpcRouting': False,\n",
       " 'IamRoles': [],\n",
       " 'MaintenanceTrackName': 'current',\n",
       " 'DeferredMaintenanceWindows': [],\n",
       " 'NextMaintenanceWindowStartTime': datetime.datetime(2022, 11, 8, 12, 30, tzinfo=tzutc()),\n",
       " 'AvailabilityZoneRelocationStatus': 'disabled',\n",
       " 'ClusterNamespaceArn': 'arn:aws:redshift:us-west-1:200397826270:namespace:5be13366-88f7-465e-9298-1fb772cb9d90',\n",
       " 'TotalStorageCapacityInMegaBytes': 400000,\n",
       " 'AquaConfiguration': {'AquaStatus': 'disabled',\n",
       "  'AquaConfigurationStatus': 'auto'}}"
      ]
     },
     "execution_count": 12,
     "metadata": {},
     "output_type": "execute_result"
    }
   ],
   "source": [
    "redshift.describe_clusters(ClusterIdentifier=DWH_CLUSTER_IDENTIFIER)['Clusters'][0]"
   ]
  },
  {
   "cell_type": "code",
   "execution_count": 14,
   "id": "e12c8819",
   "metadata": {},
   "outputs": [
    {
     "name": "stderr",
     "output_type": "stream",
     "text": [
      "/var/folders/nc/_cn5zvxd3615vbm8z4c101rc0000gn/T/ipykernel_1964/832006832.py:2: FutureWarning: Passing a negative integer is deprecated in version 1.0 and will not be supported in future version. Instead, use None to not limit the column width.\n",
      "  pd.set_option('display.max_colwidth', -1)\n"
     ]
    },
    {
     "data": {
      "text/html": [
       "<div>\n",
       "<style scoped>\n",
       "    .dataframe tbody tr th:only-of-type {\n",
       "        vertical-align: middle;\n",
       "    }\n",
       "\n",
       "    .dataframe tbody tr th {\n",
       "        vertical-align: top;\n",
       "    }\n",
       "\n",
       "    .dataframe thead th {\n",
       "        text-align: right;\n",
       "    }\n",
       "</style>\n",
       "<table border=\"1\" class=\"dataframe\">\n",
       "  <thead>\n",
       "    <tr style=\"text-align: right;\">\n",
       "      <th></th>\n",
       "      <th>key</th>\n",
       "      <th>value</th>\n",
       "    </tr>\n",
       "  </thead>\n",
       "  <tbody>\n",
       "    <tr>\n",
       "      <th>0</th>\n",
       "      <td>ClusterIdentifier</td>\n",
       "      <td>my-redshift-cluster-1</td>\n",
       "    </tr>\n",
       "    <tr>\n",
       "      <th>1</th>\n",
       "      <td>NodeType</td>\n",
       "      <td>dc2.large</td>\n",
       "    </tr>\n",
       "    <tr>\n",
       "      <th>2</th>\n",
       "      <td>ClusterStatus</td>\n",
       "      <td>available</td>\n",
       "    </tr>\n",
       "    <tr>\n",
       "      <th>3</th>\n",
       "      <td>MasterUsername</td>\n",
       "      <td>awsuser</td>\n",
       "    </tr>\n",
       "    <tr>\n",
       "      <th>4</th>\n",
       "      <td>DBName</td>\n",
       "      <td>dev</td>\n",
       "    </tr>\n",
       "    <tr>\n",
       "      <th>5</th>\n",
       "      <td>Endpoint</td>\n",
       "      <td>{'Address': 'my-redshift-cluster-1.cuazxwqypxhf.us-west-1.redshift.amazonaws.com', 'Port': 5439}</td>\n",
       "    </tr>\n",
       "    <tr>\n",
       "      <th>6</th>\n",
       "      <td>VpcId</td>\n",
       "      <td>vpc-0725a61b90e943a46</td>\n",
       "    </tr>\n",
       "  </tbody>\n",
       "</table>\n",
       "</div>"
      ],
      "text/plain": [
       "                 key  \\\n",
       "0  ClusterIdentifier   \n",
       "1  NodeType            \n",
       "2  ClusterStatus       \n",
       "3  MasterUsername      \n",
       "4  DBName              \n",
       "5  Endpoint            \n",
       "6  VpcId               \n",
       "\n",
       "                                                                                              value  \n",
       "0  my-redshift-cluster-1                                                                             \n",
       "1  dc2.large                                                                                         \n",
       "2  available                                                                                         \n",
       "3  awsuser                                                                                           \n",
       "4  dev                                                                                               \n",
       "5  {'Address': 'my-redshift-cluster-1.cuazxwqypxhf.us-west-1.redshift.amazonaws.com', 'Port': 5439}  \n",
       "6  vpc-0725a61b90e943a46                                                                             "
      ]
     },
     "execution_count": 14,
     "metadata": {},
     "output_type": "execute_result"
    }
   ],
   "source": [
    "def prettyRedshiftProps(props):\n",
    "    pd.set_option('display.max_colwidth', -1)\n",
    "    keysToShow = ['ClusterIdentifier', 'NodeType', 'ClusterStatus', 'MasterUsername', 'DBName', 'Endpoint', 'VpcId']\n",
    "    x = [(k, v) for k,v in props.items() if k in keysToShow]\n",
    "    return pd.DataFrame(data=x, columns=['key', 'value'])\n",
    "\n",
    "myClusterProps = redshift.describe_clusters(ClusterIdentifier=DWH_CLUSTER_IDENTIFIER)['Clusters'][0]\n",
    "prettyRedshiftProps(myClusterProps)"
   ]
  },
  {
   "cell_type": "code",
   "execution_count": 17,
   "id": "68108ea2",
   "metadata": {},
   "outputs": [],
   "source": [
    "DWH_ENDPOINT = myClusterProps['Endpoint']['Address']\n",
    "DWH_ROLE_ARN = myClusterProps['IamRoles']\n",
    "DB_NAME = myClusterProps['DBName']\n",
    "DB_USER = myClusterProps['MasterUsername']"
   ]
  },
  {
   "cell_type": "code",
   "execution_count": 18,
   "id": "e4b5bc9a",
   "metadata": {},
   "outputs": [
    {
     "name": "stdout",
     "output_type": "stream",
     "text": [
      "ec2.SecurityGroup(id='sg-01110c9149ad23775')\n"
     ]
    }
   ],
   "source": [
    "try:\n",
    "    vpc = ec2.Vpc(id=myClusterProps['VpcId'])\n",
    "    defaultSg = list(vpc.security_groups.all())[0]\n",
    "    print(defaultSg)\n",
    "    \n",
    "    defaultSg.authorize_ingress(\n",
    "        GroupName = defaultSg.group_name,\n",
    "        CidrIp = '0.0.0.0/0',\n",
    "        IpProtocol = 'TCP',\n",
    "        FromPort = int(DWH_PORT),\n",
    "        ToPort = int(DWH_PORT)\n",
    "    )\n",
    "except Exception as e:\n",
    "    print(e)"
   ]
  },
  {
   "cell_type": "code",
   "execution_count": null,
   "id": "7d7a7d88",
   "metadata": {},
   "outputs": [],
   "source": []
  }
 ],
 "metadata": {
  "kernelspec": {
   "display_name": "Python 3 (ipykernel)",
   "language": "python",
   "name": "python3"
  },
  "language_info": {
   "codemirror_mode": {
    "name": "ipython",
    "version": 3
   },
   "file_extension": ".py",
   "mimetype": "text/x-python",
   "name": "python",
   "nbconvert_exporter": "python",
   "pygments_lexer": "ipython3",
   "version": "3.10.6"
  }
 },
 "nbformat": 4,
 "nbformat_minor": 5
}
